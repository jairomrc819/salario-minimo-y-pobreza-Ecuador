{
 "cells": [
  {
   "cell_type": "code",
   "execution_count": 3,
   "metadata": {},
   "outputs": [],
   "source": [
    "import numpy as np\n",
    "import pandas as pd "
   ]
  },
  {
   "cell_type": "markdown",
   "metadata": {},
   "source": [
    "# Plantilla número 1 \n",
    "\n",
    "Es necesario ajustar las definiciones, las fuentes de los datos y posiblemente definiciones si la ENEMDU tiene una dimensión geográfica y temporal al mismo tiempo"
   ]
  },
  {
   "cell_type": "code",
   "execution_count": null,
   "metadata": {},
   "outputs": [],
   "source": [
    "data = pd.read_csv('datos/enemdu2012.csv') # para datos csv\n",
    "data = pd.read_stata('datos/archivo.dta') # para bases de stata\n",
    "data = pd.read_spss('datos/archivo.sav') # pasa spss"
   ]
  },
  {
   "cell_type": "code",
   "execution_count": 8,
   "metadata": {},
   "outputs": [],
   "source": [
    "data = pd.read_csv('data_rs.csv')"
   ]
  },
  {
   "cell_type": "markdown",
   "metadata": {},
   "source": [
    "## Revisar los datos"
   ]
  },
  {
   "cell_type": "code",
   "execution_count": 9,
   "metadata": {},
   "outputs": [
    {
     "data": {
      "text/plain": [
       "<bound method NDFrame.describe of       Unnamed: 0    avisoid  empresaid avisofechapublicacion  avisovacante  \\\n",
       "0         127316   363504.0       8240            2008-12-01           4.0   \n",
       "1        1937566  3352756.0       9641            2017-12-12           1.0   \n",
       "2          66650   297354.0     580702            2008-07-17           1.0   \n",
       "3         773090  1195593.0      10768            2012-05-07           1.0   \n",
       "4        1232289  2209754.0     704890            2014-06-11           1.0   \n",
       "...          ...        ...        ...                   ...           ...   \n",
       "7995     2547516  4208322.0      41958            2021-03-18           1.0   \n",
       "7996     3025716  5324450.0       2203            2022-09-27           5.0   \n",
       "7997     2930504  5202002.0     915899            2022-05-26           1.0   \n",
       "7998     2878486  5144540.0     746865            2022-03-30           1.0   \n",
       "7999     2840056  5104060.0     628064            2022-02-15           1.0   \n",
       "\n",
       "      mostrarsueldo  avisoexperiencia           expiracion  dias  \\\n",
       "0               0.0               NaN  2008-12-08 00:00:00     7   \n",
       "1               0.0               0.0  2018-01-03 00:00:00    22   \n",
       "2               0.0               3.0  2008-10-15 00:00:00    90   \n",
       "3               0.0               2.0  2012-10-31 00:00:00   177   \n",
       "4               0.0               5.0  2014-09-09 00:00:00    90   \n",
       "...             ...               ...                  ...   ...   \n",
       "7995            0.0               1.0  2021-05-17 00:00:00    60   \n",
       "7996            0.0               0.0  2022-10-27 00:00:00    30   \n",
       "7997            0.0               2.0  2022-06-02 00:00:00     7   \n",
       "7998            0.0               0.0  2022-04-29 00:00:00    30   \n",
       "7999            0.0               1.0  2022-04-16 00:00:00    60   \n",
       "\n",
       "      avisorepublicacion  ... duplicates_avisocargo3m duplicates_avisocargo6m  \\\n",
       "0                      0  ...                   False                   False   \n",
       "1                      0  ...                   False                   False   \n",
       "2                      0  ...                   False                   False   \n",
       "3                      0  ...                   False                   False   \n",
       "4                      0  ...                   False                   False   \n",
       "...                  ...  ...                     ...                     ...   \n",
       "7995                   0  ...                   False                   False   \n",
       "7996                   0  ...                   False                   False   \n",
       "7997                   0  ...                   False                   False   \n",
       "7998                   0  ...                   False                   False   \n",
       "7999                   0  ...                   False                   False   \n",
       "\n",
       "        wfh                                       similars pseudoindex     b1  \\\n",
       "0     False                                            NaN         NaN   True   \n",
       "1     False                                            NaN         NaN   True   \n",
       "2     False                                            NaN         NaN   True   \n",
       "3     False                                            NaN         NaN   True   \n",
       "4     False                                            NaN         NaN   True   \n",
       "...     ...                                            ...         ...    ...   \n",
       "7995   True                                            NaN         NaN  False   \n",
       "7996   True  [839, 846, 858, 867, 940, 942, 960, 967, 972]     46945.0  False   \n",
       "7997   True                                            NaN         NaN  False   \n",
       "7998   True                                             []     35067.0  False   \n",
       "7999  False                                            NaN         NaN  False   \n",
       "\n",
       "         b2     b3     b4 week  \n",
       "0     False  False  False   48  \n",
       "1     False  False  False  520  \n",
       "2     False  False  False   29  \n",
       "3     False  False  False  227  \n",
       "4     False  False  False  337  \n",
       "...     ...    ...    ...  ...  \n",
       "7995   True   True   True  690  \n",
       "7996  False   True   True  770  \n",
       "7997   True   True   True  752  \n",
       "7998   True   True   True  744  \n",
       "7999  False  False   True  738  \n",
       "\n",
       "[8000 rows x 61 columns]>"
      ]
     },
     "execution_count": 9,
     "metadata": {},
     "output_type": "execute_result"
    }
   ],
   "source": [
    "data.describe"
   ]
  },
  {
   "cell_type": "markdown",
   "metadata": {},
   "source": [
    "## Corregimos los valores de ser necesario"
   ]
  },
  {
   "cell_type": "code",
   "execution_count": 17,
   "metadata": {},
   "outputs": [],
   "source": [
    "# Llenar valores perdidos con un dato (0)\n",
    "data['avisoexperiencia'] = data['avisoexperiencia'].fillna(0)"
   ]
  },
  {
   "cell_type": "markdown",
   "metadata": {},
   "source": [
    "## Calculamos ingreso bruto por persona"
   ]
  },
  {
   "cell_type": "code",
   "execution_count": null,
   "metadata": {},
   "outputs": [],
   "source": [
    "data['ingr_b'] = data['p26'] + data['p45']\n",
    "data['ingr_b'].mean()"
   ]
  },
  {
   "cell_type": "markdown",
   "metadata": {},
   "source": [
    "## Deflactamos el ingreso"
   ]
  },
  {
   "cell_type": "code",
   "execution_count": null,
   "metadata": {},
   "outputs": [],
   "source": [
    "# Cargamos los datos del ipc mensual de Ecuador para el año usado\n",
    "ipc = np.array([16, 15, 58, 96, 85, 45])\n",
    "# Elegimos el año base\n",
    "ipcb = 100"
   ]
  },
  {
   "cell_type": "code",
   "execution_count": null,
   "metadata": {},
   "outputs": [],
   "source": [
    "# Asigna el IPC a cada mes\n",
    "data['ipc'] = data['mes'].map(lambda x: ipc[x-1])\n",
    "\n",
    "# Calculamos el deflactor\n",
    "data['def'] = data['ipc']/ipcb\n",
    "data['ingr_r'] = data['ingr_b'] * data['def']"
   ]
  },
  {
   "cell_type": "markdown",
   "metadata": {},
   "source": [
    "## Calculo ingreso de los hogares"
   ]
  },
  {
   "cell_type": "code",
   "execution_count": null,
   "metadata": {},
   "outputs": [],
   "source": [
    "data['ingr_h'] = data.groupby('identificador hogares')['ingr_r'].transform('sum')"
   ]
  },
  {
   "cell_type": "markdown",
   "metadata": {},
   "source": [
    "## Sacamos edades negativas, mayores a 100 años y menores de 10"
   ]
  },
  {
   "cell_type": "code",
   "execution_count": null,
   "metadata": {},
   "outputs": [],
   "source": [
    "data = data.loc[(data['edad'] > 10) & (data['edad'] < 100)]"
   ]
  },
  {
   "cell_type": "markdown",
   "metadata": {},
   "source": [
    "## Ingreso descontando cargas familiares\n",
    "\n",
    "Utilizando la metodología del autor dividimos el ingreso del hogar para la escala $(A_{i}+kC_{i})^{s}$ donde $A_{i}$ es al número de adultos, $C_{i}$ es el número de niños en el hogar $i$. $k$ es el costo en recursos de cada niño y $s$ busca reflejar las restricciones"
   ]
  },
  {
   "cell_type": "code",
   "execution_count": null,
   "metadata": {},
   "outputs": [],
   "source": [
    "k = 0.4\n",
    "s = 0.9"
   ]
  },
  {
   "cell_type": "code",
   "execution_count": null,
   "metadata": {},
   "outputs": [],
   "source": [
    "# Si es necesario calcular el número de niños\n",
    "data['es_nino'] = data['edad'] < 10\n",
    "\n",
    "data['ninos'] = data.groupby('identificador hogares')['es_nino'].transform('sum')\n",
    "\n",
    "# Si es necesario calcular el número de adultos\n",
    "data['es_adulto'] = data['edad'] > 10\n",
    "\n",
    "data['adultos'] = data.groupby('identificador hogares')['es_adulto'].transform('sum')"
   ]
  },
  {
   "cell_type": "code",
   "execution_count": null,
   "metadata": {},
   "outputs": [],
   "source": [
    "data['escala'] = (data['adultos'] + k * data['ninos']) ** s"
   ]
  },
  {
   "cell_type": "code",
   "execution_count": null,
   "metadata": {},
   "outputs": [],
   "source": [
    "data['ingr_t'] = data['ingr_h'] / data['escala']"
   ]
  },
  {
   "cell_type": "markdown",
   "metadata": {},
   "source": [
    "## Umbrales de pobreza\n",
    "\n",
    "Incluimos los índices de pobreza si es posible a nivel regional para luego poder utilizar de mejor forma el factor de expansión"
   ]
  },
  {
   "cell_type": "code",
   "execution_count": null,
   "metadata": {},
   "outputs": [],
   "source": [
    "pobr = np.array(300, 400, 500)\n",
    "\n",
    "# Asigna el umbral a cada región\n",
    "data['umbral'] = data['región'].map(lambda x: pobr[x])"
   ]
  },
  {
   "cell_type": "markdown",
   "metadata": {},
   "source": [
    "## Cálculo del índice de pobreza de Foster, Greer y Thorbecke\n",
    "\n",
    "Para calcular un ínidce de pobreza se utiliza a Foster, Greer y Thorbecke (1984), ya que satisface algunas caracterísitcas de distribución que son positivas e igual a las enunciadas por Sen, el autor usa el mismo índice."
   ]
  },
  {
   "cell_type": "markdown",
   "metadata": {},
   "source": [
    "$FGT_{\\alpha} = \\frac{1}{N}\\sum_{i=1}^{H}\\left(\\frac{z-y_{i}}{z}\\right)^{\\alpha} $\n",
    "\n",
    "Donde $z$ es el umbral de pobreza, $N$ es el número de personas en la economía, $H$ es el número de pobres (personas debajo de la línea de pobreza) $y_{i}$ es el ingreso de cada individuo. Mientras mayor es el valor de $\\alpha$ mayor es el peso de los individuos más pobres, mayor $FGT$ mayor pobreza en la economía."
   ]
  },
  {
   "cell_type": "code",
   "execution_count": null,
   "metadata": {},
   "outputs": [],
   "source": [
    "# Buscamos a los que están por debajo del umbral de pobreza\n",
    "data['pobres'] = (data['ingr_t'] - data['umbral']) < 0\n",
    "\n",
    "# Cantidad de pobres por región\n",
    "data['pobres_region'] = data.groupby('identificador_region')['pobres'].transform('sum')\n",
    "\n",
    "# Cantidad de personas por región\n",
    "data['personas'] = data.groupby('identificador_region')['identificador persona'].transform('sum')"
   ]
  },
  {
   "cell_type": "code",
   "execution_count": 8,
   "metadata": {},
   "outputs": [],
   "source": [
    "# Cálculo del FGT para alpha 0,1 y 2 dependiendo de las dimensiones de la ENEMDU..."
   ]
  },
  {
   "cell_type": "markdown",
   "metadata": {},
   "source": [
    "## Calculo del índice de desigualdad de Atkinson\n",
    "\n",
    "Vamos a calcular el índice de desigualdad de atkinson con un parámetro $\\epsilon$ de aversión a la desigualdad y un $\\mu$ que es igual a la media de los ingresos individuales, con la siguiente fórmula."
   ]
  },
  {
   "cell_type": "markdown",
   "metadata": {},
   "source": [
    "$A = 1-\\frac{1}{\\mu}\\left(\\frac{1}{N}\\sum_{i=1}^{N}y^{1-\\epsilon}\\right)^{1/(1-\\epsilon}$\n",
    "\n",
    "Donde $y_{i}$ es el ingreso individual y $\\mu$ es el ingreso medio"
   ]
  },
  {
   "cell_type": "code",
   "execution_count": null,
   "metadata": {},
   "outputs": [],
   "source": [
    "# Ingreso promedio por región\n",
    "data['mu'] = data.groupby('identificador_region')['ingr_t'].transform('mean')"
   ]
  },
  {
   "cell_type": "code",
   "execution_count": 9,
   "metadata": {},
   "outputs": [],
   "source": [
    "# Cálculo del A para epsilon 0.25, 0.5 y 0.75 dependiendo de las dimensiones de la ENEMDU..."
   ]
  }
 ],
 "metadata": {
  "kernelspec": {
   "display_name": "Python 3",
   "language": "python",
   "name": "python3"
  },
  "language_info": {
   "codemirror_mode": {
    "name": "ipython",
    "version": 3
   },
   "file_extension": ".py",
   "mimetype": "text/x-python",
   "name": "python",
   "nbconvert_exporter": "python",
   "pygments_lexer": "ipython3",
   "version": "3.12.3"
  }
 },
 "nbformat": 4,
 "nbformat_minor": 2
}
